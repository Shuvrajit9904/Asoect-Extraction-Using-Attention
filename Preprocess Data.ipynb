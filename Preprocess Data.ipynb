{
 "cells": [
  {
   "cell_type": "markdown",
   "metadata": {},
   "source": [
    "### Import packages"
   ]
  },
  {
   "cell_type": "code",
   "execution_count": 2,
   "metadata": {},
   "outputs": [],
   "source": [
    "import pandas as pd\n",
    "import tensorflow as tf\n",
    "import numpy as np\n",
    "import os\n",
    "import math\n",
    "import timeit\n",
    "import glob\n",
    "import sys\n",
    "#import matplotlib.pyplot as plt\n",
    "#import seaborn as sns\n",
    "\n",
    "#sns.set()"
   ]
  },
  {
   "cell_type": "markdown",
   "metadata": {},
   "source": [
    "### Load Word2Vec"
   ]
  },
  {
   "cell_type": "code",
   "execution_count": null,
   "metadata": {},
   "outputs": [],
   "source": [
    "import gensim"
   ]
  },
  {
   "cell_type": "code",
   "execution_count": null,
   "metadata": {},
   "outputs": [],
   "source": [
    "model = gensim.models.KeyedVectors.load_word2vec_format('models/word2vec/GoogleNews-vectors-negative300.bin', binary=True)  "
   ]
  },
  {
   "cell_type": "code",
   "execution_count": null,
   "metadata": {},
   "outputs": [],
   "source": [
    "len(model['ball'])"
   ]
  },
  {
   "cell_type": "markdown",
   "metadata": {},
   "source": [
    "### Read Reviews"
   ]
  },
  {
   "cell_type": "code",
   "execution_count": 6,
   "metadata": {},
   "outputs": [],
   "source": [
    "reviews = []\n",
    "path = 'data/Review_Texts/*.dat'\n",
    "files = glob.glob(path)\n",
    "text = ''\n",
    "counter = 1\n",
    "for filename in files:\n",
    "    if counter > 10: break\n",
    "    counter += 1\n",
    "    with open(filename) as f:\n",
    "        for line in f:\n",
    "            if len(line) >= 9:\n",
    "                if line[:9] == '<Content>':\n",
    "                    reviews.append(line[9:])\n",
    "                    "
   ]
  },
  {
   "cell_type": "code",
   "execution_count": 11,
   "metadata": {},
   "outputs": [
    {
     "name": "stdout",
     "output_type": "stream",
     "text": [
      "The most amazing hotel ever My husband and I stayed at the Savoy for our wedding night in 2005 and I have been meaning to write a review. We have stayed in many world renowned 5 star hotels since then and not one of them has ever lived up to the standard of the Savoy. We were upgraded to an amazing room with 3 balconies. The staff were the most courteous and helpful we have ever encountered and the design, location and overall experience at the hotel was outstanding. \n",
      "\n"
     ]
    }
   ],
   "source": [
    "print (reviews[0])"
   ]
  },
  {
   "cell_type": "markdown",
   "metadata": {},
   "source": [
    "### Model"
   ]
  },
  {
   "cell_type": "code",
   "execution_count": null,
   "metadata": {},
   "outputs": [],
   "source": [
    "class AttentionModel:\n",
    "    def __init__(self):\n",
    "        self.d = dimension\n",
    "        self.n = n\n",
    "    def call(self, e, M, T):\n",
    "        y = tf.divide(tf.reduce_sum(e), n)\n",
    "        temp = tf.matvec(M, y)\n",
    "        d = tf.tensordot(e, temp)\n",
    "        tf.exp(d)\n",
    "        "
   ]
  }
 ],
 "metadata": {
  "kernelspec": {
   "display_name": "Python 3",
   "language": "python",
   "name": "python3"
  },
  "language_info": {
   "codemirror_mode": {
    "name": "ipython",
    "version": 3
   },
   "file_extension": ".py",
   "mimetype": "text/x-python",
   "name": "python",
   "nbconvert_exporter": "python",
   "pygments_lexer": "ipython3",
   "version": "3.6.2"
  }
 },
 "nbformat": 4,
 "nbformat_minor": 2
}
