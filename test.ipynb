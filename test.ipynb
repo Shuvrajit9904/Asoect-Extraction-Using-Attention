{
 "cells": [
  {
   "cell_type": "code",
   "execution_count": null,
   "metadata": {},
   "outputs": [],
   "source": [
    "from build_sentence_corp import *\n",
    "from prepare_input import *\n"
   ]
  },
  {
   "cell_type": "code",
   "execution_count": 1,
   "metadata": {},
   "outputs": [],
   "source": [
    "from model import *"
   ]
  },
  {
   "cell_type": "code",
   "execution_count": 2,
   "metadata": {},
   "outputs": [],
   "source": [
    "import pickle\n",
    "f = open(\"./data/T_matrix.pickle\",'rb')\n",
    "_T = pickle.load(f)\n",
    "f.close()"
   ]
  },
  {
   "cell_type": "code",
   "execution_count": null,
   "metadata": {},
   "outputs": [],
   "source": [
    "with open('./data/sent_embed.dat', 'wb'):\n",
    "    pickle.dump()"
   ]
  },
  {
   "cell_type": "code",
   "execution_count": 76,
   "metadata": {},
   "outputs": [],
   "source": [
    "with open('./data/sample_sent_embed', 'rb') as f:\n",
    "    sent_embedding_sample = pickle.load(f)"
   ]
  },
  {
   "cell_type": "code",
   "execution_count": 77,
   "metadata": {},
   "outputs": [],
   "source": [
    "import numpy as np\n",
    "sent_embedding_sample = sent_embedding_sample\n",
    "sent_embedding_sample = np.asarray(sent_embedding_sample)"
   ]
  },
  {
   "cell_type": "code",
   "execution_count": 78,
   "metadata": {},
   "outputs": [],
   "source": [
    "embedding_vector_size = 300\n",
    "\n",
    "tf.reset_default_graph()\n",
    "training_inputs = tf.placeholder(shape=[None, 300, 100], dtype=tf.float32)  "
   ]
  },
  {
   "cell_type": "code",
   "execution_count": 79,
   "metadata": {},
   "outputs": [],
   "source": [
    "k = 14\n",
    "g = tf.Graph()\n",
    "#with g.as_default():\n",
    "T = tf.transpose(tf.cast(tf.get_variable(\"T\", initializer=_T), dtype=tf.float32))\n",
    "M = tf.get_variable(\"M\", [embedding_vector_size, embedding_vector_size], dtype=tf.float32)"
   ]
  },
  {
   "cell_type": "code",
   "execution_count": 80,
   "metadata": {},
   "outputs": [],
   "source": [
    "zs = attention(training_inputs, M)\n",
    "rs = reconstruct_embed(k, zs, training_inputs, M, T)"
   ]
  },
  {
   "cell_type": "code",
   "execution_count": 81,
   "metadata": {},
   "outputs": [],
   "source": [
    "max_val = len(sent_embedding_sample)\n",
    "n = 5\n",
    "loss = total_loss(rs, zs, T, training_inputs, max_val, n)"
   ]
  },
  {
   "cell_type": "markdown",
   "metadata": {},
   "source": [
    "## Adam Optimizer"
   ]
  },
  {
   "cell_type": "code",
   "execution_count": 82,
   "metadata": {},
   "outputs": [],
   "source": [
    "train_op = tf.train.AdamOptimizer(learning_rate=0.1).minimize(loss)"
   ]
  },
  {
   "cell_type": "markdown",
   "metadata": {},
   "source": [
    "## Tensorflow Seesion"
   ]
  },
  {
   "cell_type": "code",
   "execution_count": null,
   "metadata": {},
   "outputs": [
    {
     "name": "stdout",
     "output_type": "stream",
     "text": [
      "Variable:  T:0\n",
      "Shape:  (14, 300)\n",
      "Variable:  M:0\n",
      "Shape:  (300, 300)\n",
      "Variable:  dense/kernel:0\n",
      "Shape:  (300, 14)\n",
      "Variable:  dense/bias:0\n",
      "Shape:  (14,)\n"
     ]
    }
   ],
   "source": [
    "variables_names = [v.name for v in tf.trainable_variables()]\n",
    "with tf.Session() as sess:\n",
    "    sess.run(tf.global_variables_initializer())\n",
    "    values = sess.run(variables_names)\n",
    "    for k, v in zip(variables_names, values):\n",
    "        print(\"Variable: \", k)\n",
    "        print(\"Shape: \", v.shape)\n",
    "    M2 = sess.run(tf.trainable_variables())\n",
    "    #print(\"W before: \", M2)\n",
    "    for _ in range(100):\n",
    "        ls, _ = sess.run([loss, train_op], feed_dict={training_inputs:sent_embedding_sample})\n",
    "        #print(ls)\n",
    "    M1 = sess.run(tf.trainable_variables())\n",
    "    #print(\"W after\", M1)"
   ]
  },
  {
   "cell_type": "code",
   "execution_count": 1,
   "metadata": {},
   "outputs": [
    {
     "ename": "NameError",
     "evalue": "name 'M1' is not defined",
     "output_type": "error",
     "traceback": [
      "\u001b[0;31m---------------------------------------------------------------------------\u001b[0m",
      "\u001b[0;31mNameError\u001b[0m                                 Traceback (most recent call last)",
      "\u001b[0;32m<ipython-input-1-71f66fc15f9c>\u001b[0m in \u001b[0;36m<module>\u001b[0;34m()\u001b[0m\n\u001b[0;32m----> 1\u001b[0;31m \u001b[0mM1\u001b[0m\u001b[0;34m[\u001b[0m\u001b[0;36m3\u001b[0m\u001b[0;34m]\u001b[0m \u001b[0;34m==\u001b[0m \u001b[0mM2\u001b[0m\u001b[0;34m[\u001b[0m\u001b[0;36m3\u001b[0m\u001b[0;34m]\u001b[0m\u001b[0;34m\u001b[0m\u001b[0m\n\u001b[0m",
      "\u001b[0;31mNameError\u001b[0m: name 'M1' is not defined"
     ]
    }
   ],
   "source": [
    "M1[3] == M2[3]"
   ]
  },
  {
   "cell_type": "code",
   "execution_count": 66,
   "metadata": {},
   "outputs": [
    {
     "data": {
      "text/plain": [
       "array([[-0.12895024, -0.10986522,  0.07551587, ..., -0.02266879,\n",
       "        -0.13532795,  0.13203731],\n",
       "       [-0.07746063, -0.09901691,  0.07792173, ..., -0.10565016,\n",
       "        -0.02678639, -0.03910506],\n",
       "       [ 0.12119326, -0.06454878,  0.0271163 , ..., -0.09294194,\n",
       "         0.12114128, -0.09015402],\n",
       "       ...,\n",
       "       [-0.04129875,  0.12668186,  0.03315522, ..., -0.13619281,\n",
       "         0.00074582, -0.12422828],\n",
       "       [ 0.00627255,  0.02791442,  0.13213712, ..., -0.05763636,\n",
       "        -0.12989871,  0.03123641],\n",
       "       [-0.08403052, -0.09235042, -0.03664988, ..., -0.07433148,\n",
       "         0.06971644,  0.04787953]], dtype=float32)"
      ]
     },
     "execution_count": 66,
     "metadata": {},
     "output_type": "execute_result"
    }
   ],
   "source": []
  },
  {
   "cell_type": "code",
   "execution_count": null,
   "metadata": {},
   "outputs": [],
   "source": []
  }
 ],
 "metadata": {
  "kernelspec": {
   "display_name": "Python 3",
   "language": "python",
   "name": "python3"
  },
  "language_info": {
   "codemirror_mode": {
    "name": "ipython",
    "version": 3
   },
   "file_extension": ".py",
   "mimetype": "text/x-python",
   "name": "python",
   "nbconvert_exporter": "python",
   "pygments_lexer": "ipython3",
   "version": "3.5.2"
  }
 },
 "nbformat": 4,
 "nbformat_minor": 2
}
