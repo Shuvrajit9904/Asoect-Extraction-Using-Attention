{
 "cells": [
  {
   "cell_type": "code",
   "execution_count": 71,
   "metadata": {},
   "outputs": [],
   "source": [
    "#from build_sentence_corp import *\n",
    "#from prepare_input import *"
   ]
  },
  {
   "cell_type": "code",
   "execution_count": 2,
   "metadata": {},
   "outputs": [],
   "source": [
    "from model import *\n",
    "import os"
   ]
  },
  {
   "cell_type": "code",
   "execution_count": 3,
   "metadata": {},
   "outputs": [],
   "source": [
    "import pickle\n",
    "f = open(\"./data/T_matrix.pickle\",'rb')\n",
    "_T = pickle.load(f)\n",
    "f.close()"
   ]
  },
  {
   "cell_type": "code",
   "execution_count": 32,
   "metadata": {},
   "outputs": [],
   "source": [
    "embedding_vector_size = 300\n",
    "\n",
    "tf.reset_default_graph()\n",
    "training_inputs = tf.placeholder(shape=[None, 300, 100], dtype=tf.float32)  "
   ]
  },
  {
   "cell_type": "code",
   "execution_count": 33,
   "metadata": {},
   "outputs": [],
   "source": [
    "k = 14\n",
    "g = tf.Graph()\n",
    "#with g.as_default():\n",
    "T = tf.transpose(tf.cast(tf.get_variable(\"T\", initializer=_T), dtype=tf.float32))\n",
    "M = tf.get_variable(\"M\", [embedding_vector_size, embedding_vector_size], dtype=tf.float32)"
   ]
  },
  {
   "cell_type": "code",
   "execution_count": 34,
   "metadata": {},
   "outputs": [],
   "source": [
    "zs = attention(training_inputs, M)\n",
    "rs = reconstruct_embed(k, zs, training_inputs, M, T)"
   ]
  },
  {
   "cell_type": "code",
   "execution_count": 38,
   "metadata": {},
   "outputs": [],
   "source": [
    "embedding_file_path = './data/batch_embedding/'\n",
    "sent_embed_files = os.listdir(embedding_file_path)[:300]\n",
    "batch_size = 50\n",
    "max_val = batch_size-1\n",
    "n = 20\n",
    "loss = total_loss(rs, zs, T, training_inputs, max_val, n)"
   ]
  },
  {
   "cell_type": "markdown",
   "metadata": {},
   "source": [
    "## Adam Optimizer"
   ]
  },
  {
   "cell_type": "code",
   "execution_count": 39,
   "metadata": {},
   "outputs": [],
   "source": [
    "train_op = tf.train.AdamOptimizer(learning_rate=0.001).minimize(loss)"
   ]
  },
  {
   "cell_type": "markdown",
   "metadata": {},
   "source": [
    "## Tensorflow Seesion"
   ]
  },
  {
   "cell_type": "code",
   "execution_count": 43,
   "metadata": {},
   "outputs": [
    {
     "name": "stdout",
     "output_type": "stream",
     "text": [
      "Variable:  T:0\n",
      "Shape:  (14, 300)\n",
      "Variable:  M:0\n",
      "Shape:  (300, 300)\n",
      "Variable:  dense/kernel:0\n",
      "Shape:  (300, 14)\n",
      "Variable:  dense/bias:0\n",
      "Shape:  (14,)\n",
      "Epoch:  0\n",
      "loss 78.285126\n",
      "Epoch:  1\n",
      "loss 78.28513\n",
      "Epoch:  2\n",
      "loss 78.28513\n",
      "Epoch:  3\n",
      "loss 78.28513\n",
      "Epoch:  4\n",
      "loss 78.285126\n"
     ]
    }
   ],
   "source": [
    "variables_names = [v.name for v in tf.trainable_variables()]\n",
    "with tf.Session() as sess:\n",
    "    sess.run(tf.global_variables_initializer())\n",
    "    values = sess.run(variables_names)\n",
    "    for k, v in zip(variables_names, values):\n",
    "        print(\"Variable: \", k)\n",
    "        print(\"Shape: \", v.shape)    \n",
    "    for i in range(5):\n",
    "        print(\"Epoch: \", i)\n",
    "        for files in sent_embed_files:\n",
    "            #print(\"file: \", files)\n",
    "            filename = embedding_file_path + files\n",
    "            with open(filename, 'rb') as f:\n",
    "                sent_embedding_sample = pickle.load(f)                                        \n",
    "            ls, _, Tk = sess.run([loss, train_op, T], feed_dict={training_inputs:sent_embedding_sample})\n",
    "        print(\"loss\", ls)\n"
   ]
  },
  {
   "cell_type": "code",
   "execution_count": 49,
   "metadata": {},
   "outputs": [],
   "source": [
    "import gensim\n",
    "embedding_vector_size = 300\n",
    "embedding_path = 'data/GoogleNews-vectors-negative300.bin'\n",
    "embedding = gensim.models.KeyedVectors.load_word2vec_format(embedding_path, \n",
    "                             binary=True)\n"
   ]
  },
  {
   "cell_type": "code",
   "execution_count": 69,
   "metadata": {},
   "outputs": [
    {
     "data": {
      "text/plain": [
       "[('potato_leek_soup', 0.7608047723770142),\n",
       " ('fried_onion_rings', 0.7577475309371948),\n",
       " ('homemade_peach_cobbler', 0.7464830875396729),\n",
       " ('crispy_fries', 0.7408971786499023),\n",
       " ('spinach_lasagna', 0.7329265475273132),\n",
       " ('shoestring_fries', 0.7310258746147156),\n",
       " ('spiced_nuts', 0.7295354604721069),\n",
       " ('bruschetta_topping', 0.7291461229324341),\n",
       " ('pickled_cucumbers', 0.7280831933021545),\n",
       " ('dessert', 0.7270943522453308)]"
      ]
     },
     "execution_count": 69,
     "metadata": {},
     "output_type": "execute_result"
    }
   ],
   "source": [
    "embedding.most_similar(positive=[Tk.T[9]], topn=10)"
   ]
  }
 ],
 "metadata": {
  "kernelspec": {
   "display_name": "Python 3",
   "language": "python",
   "name": "python3"
  },
  "language_info": {
   "codemirror_mode": {
    "name": "ipython",
    "version": 3
   },
   "file_extension": ".py",
   "mimetype": "text/x-python",
   "name": "python",
   "nbconvert_exporter": "python",
   "pygments_lexer": "ipython3",
   "version": "3.5.2"
  }
 },
 "nbformat": 4,
 "nbformat_minor": 2
}
